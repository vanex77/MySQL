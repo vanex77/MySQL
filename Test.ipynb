{
 "cells": [
  {
   "cell_type": "markdown",
   "metadata": {},
   "source": [
    "## <center>Тест<a class=\"anchor\" id=\"course_project\"></a><center>"
   ]
  },
  {
   "cell_type": "code",
   "execution_count": 1,
   "metadata": {},
   "outputs": [],
   "source": [
    "# 1. Основные библиотеки\n",
    "import numpy as np\n",
    "import pandas as pd\n",
    "import pickle   # сохранение модели\n",
    "\n",
    "import matplotlib\n",
    "import matplotlib.pyplot as plt\n",
    "import seaborn as sns\n",
    "%matplotlib inline\n",
    "\n",
    "# 2. Разделение датасета\n",
    "from sklearn.model_selection import train_test_split, KFold, GridSearchCV, learning_curve\n",
    "\n",
    "# 3. Модели\n",
    "from sklearn.neighbors import KNeighborsClassifier, KNeighborsRegressor\n",
    "from sklearn.linear_model import LinearRegression, LogisticRegression\n",
    "from sklearn.tree import DecisionTreeRegressor, plot_tree\n",
    "from sklearn.ensemble import RandomForestRegressor, GradientBoostingRegressor\n",
    "from sklearn.preprocessing import StandardScaler, MinMaxScaler, RobustScaler\n",
    "from sklearn.svm import SVR\n",
    "from sklearn.model_selection import cross_val_score, train_test_split\n",
    "from sklearn.model_selection import KFold, GridSearchCV, RandomizedSearchCV\n",
    "from sklearn.experimental import enable_iterative_imputer\n",
    "from sklearn.impute import IterativeImputer\n",
    "\n",
    "import xgboost as xgb\n",
    "import lightgbm as lgbm\n",
    "import catboost as catb\n",
    "\n",
    "# 4. Метрики качества\n",
    "from sklearn.metrics import mean_squared_error as mse, r2_score as r2\n",
    "from sklearn.metrics import classification_report, f1_score, precision_score, recall_score\n",
    "\n",
    "# 5. Для визуализации внешних картинок в ноутбуке\n",
    "from IPython.display import Image\n",
    "from scipy.interpolate import make_interp_spline"
   ]
  },
  {
   "cell_type": "code",
   "execution_count": 2,
   "metadata": {},
   "outputs": [],
   "source": [
    "def show_proba_calibration_plots(y_predicted_probs, y_true_labels):\n",
    "    preds_with_true_labels = np.array(list(zip(y_predicted_probs, y_true_labels)))\n",
    "\n",
    "    thresholds = []\n",
    "    precisions = []\n",
    "    recalls = []\n",
    "    f1_scores = []\n",
    "\n",
    "    for threshold in np.linspace(0.25, 0.35, 20):\n",
    "        thresholds.append(threshold)\n",
    "        precisions.append(precision_score(y_true_labels, list(map(int, y_predicted_probs > threshold))))\n",
    "        recalls.append(recall_score(y_true_labels, list(map(int, y_predicted_probs > threshold))))\n",
    "        f1_scores.append(f1_score(y_true_labels, list(map(int, y_predicted_probs > threshold))))\n",
    "\n",
    "    scores_table = pd.DataFrame({'f1':f1_scores,\n",
    "                                 'precision':precisions,\n",
    "                                 'recall':recalls,\n",
    "                                 'probability':thresholds}).sort_values('f1', ascending=False).round(3)\n",
    "      \n",
    "    figure = plt.figure(figsize = (15, 5))\n",
    "\n",
    "    plt1 = figure.add_subplot(121)\n",
    "    plt1.axhline(0.5, color=\"red\")\n",
    "    plt1.plot(thresholds, precisions, label='Precision', linewidth=4)\n",
    "    plt1.plot(thresholds, recalls, label='Recall', linewidth=4)\n",
    "    plt1.plot(thresholds, f1_scores, label='F1', linewidth=4)\n",
    "    plt1.set_ylabel('Scores')\n",
    "    plt1.set_xlabel('Probability threshold')\n",
    "    plt1.set_title('Probabilities threshold calibration')\n",
    "    plt1.legend(bbox_to_anchor=(0.25, 0.25))   \n",
    "    plt1.table(cellText = scores_table.values,\n",
    "               colLabels = scores_table.columns, \n",
    "               colLoc = 'center', cellLoc = 'center', loc = 'bottom', bbox = [0, -1.3, 1, 1])\n",
    "\n",
    "    plt2 = figure.add_subplot(122)\n",
    "    plt2.hist(preds_with_true_labels[preds_with_true_labels[:, 1] == 0][:, 0], \n",
    "              label='Another class', color='royalblue', alpha=0.5)\n",
    "    plt2.hist(preds_with_true_labels[preds_with_true_labels[:, 1] == 1][:, 0], \n",
    "              label='Main class', color='darkcyan', alpha=0.8)\n",
    "    plt2.set_ylabel('Number of examples')\n",
    "    plt2.set_xlabel('Probabilities')\n",
    "    plt2.set_title('Probability histogram')\n",
    "    plt2.legend(bbox_to_anchor=(1, 1))\n",
    "\n",
    "    plt.show()"
   ]
  },
  {
   "cell_type": "code",
   "execution_count": 3,
   "metadata": {},
   "outputs": [],
   "source": [
    "def get_classification_report(y_train_true, y_train_pred, y_test_true, y_test_pred):\n",
    "    print('TRAIN\\n\\n' + classification_report(y_train_true, y_train_pred))\n",
    "    print('TEST\\n\\n' + classification_report(y_test_true, y_test_pred))\n",
    "    print('CONFUSION MATRIX\\n')\n",
    "    print(pd.crosstab(y_test_true, y_test_pred))"
   ]
  },
  {
   "cell_type": "code",
   "execution_count": 4,
   "metadata": {},
   "outputs": [],
   "source": [
    "def show_feature_importances(feature_names, feature_importances, get_top=None):\n",
    "    feature_importances = pd.DataFrame({'feature': feature_names, 'importance': feature_importances})\n",
    "    feature_importances = feature_importances.sort_values('importance', ascending=False)\n",
    "       \n",
    "    plt.figure(figsize = (14, len(feature_importances) * 0.355))\n",
    "    \n",
    "    sns.barplot(feature_importances['importance'], feature_importances['feature'])\n",
    "    \n",
    "    plt.xlabel('Importance')\n",
    "    plt.title('Importance of features')\n",
    "    plt.show()\n",
    "\n",
    "    if get_top is not None:\n",
    "        return feature_importances['feature'][:get_top].tolist()"
   ]
  },
  {
   "cell_type": "code",
   "execution_count": 5,
   "metadata": {},
   "outputs": [],
   "source": [
    "def filling_empty_cells_train(prizn):\n",
    "    \n",
    "    global X\n",
    "    global X_nan\n",
    "    \n",
    "    # Масштабируем RandomForestRegressor, GradientBoostingRegressor\n",
    "    #scaler = StandardScaler()\n",
    "    X = scaler.fit_transform(X)\n",
    "    X_nan = scaler.fit_transform(X_nan)\n",
    "    \n",
    "    # Обучаем модель и предсказываем пропущенные значения. Записываем их на место пропусков\n",
    "    gbr = GradientBoostingRegressor(random_state=21)\n",
    "    gbr.fit(X, y)\n",
    "    y_pred = gbr.predict(X_nan)\n",
    "    df_train.loc[df_train[prizn].isna(), prizn] = y_pred"
   ]
  },
  {
   "cell_type": "code",
   "execution_count": 6,
   "metadata": {},
   "outputs": [],
   "source": [
    "def filling_empty_cells_test(prizn):\n",
    "        \n",
    "    global X\n",
    "    global X_nan\n",
    "    \n",
    "    # Масштабируем\n",
    "    \n",
    "    X = scaler.fit_transform(X)\n",
    "    X_nan = scaler.fit_transform(X_nan)\n",
    "    \n",
    "    # Обучаем модель и предсказываем пропущенные значения. Записываем их на место пропусков\n",
    "    gbr = GradientBoostingRegressor(random_state=21)\n",
    "    gbr.fit(X, y)\n",
    "    y_pred = gbr.predict(X_nan)\n",
    "    df_test.loc[df_test[prizn].isna(), prizn] = y_pred"
   ]
  },
  {
   "cell_type": "code",
   "execution_count": 7,
   "metadata": {},
   "outputs": [],
   "source": [
    "def GiniIndex(p):\n",
    "    #Коэффициент Джини\n",
    "    cum = np.cumsum(sorted(np.append(p, 0)))\n",
    "    sum = cum[-1]\n",
    "    x1 = np.array(range(len(cum))) / len(p)\n",
    "    y1 = cum / sum\n",
    "    B = np.trapz(y1, x=x1)\n",
    "    A = 0.5 - B\n",
    "    G = A / (A + B)\n",
    "    #Рисование\n",
    "    plt.rcParams['font.sans-serif'] = ['SimHei']\n",
    "    fig, ax = plt.subplots()\n",
    "    ax.spines['right'].set_color('none')\n",
    "    ax.spines['top'].set_color('none')\n",
    "    ax.spines['bottom'].set_position(('data', -0))\n",
    "    ax.spines['left'].set_position(('data', 0))\n",
    "    plt.xticks([0, 1.0])\n",
    "    plt.yticks([1.0])\n",
    "    plt.axis('scaled')\n",
    "    x_smooth = np.linspace(x1.min(), x1.max(), 100)\n",
    "    y_smooth = make_interp_spline(x1, y1)(x_smooth)\n",
    "    ax.plot(x_smooth, y_smooth, color='black')\n",
    "    ax.plot(x1, x1, color='black')\n",
    "    ax.plot([0, 1, 1, 1], [0, 0, 0, 1], color='black')\n",
    "    ax.fill_between(x1, y1)\n",
    "    ax.fill_between(x1, x1, y1, where=y1 <= x1)\n",
    "    ax.set_xlabel('вероятность')\n",
    "    ax.set_ylabel('количество')\n",
    "    plt.show()\n",
    "    return G"
   ]
  },
  {
   "cell_type": "markdown",
   "metadata": {},
   "source": [
    "**Пути к директориям и файлам**"
   ]
  },
  {
   "cell_type": "code",
   "execution_count": 8,
   "metadata": {},
   "outputs": [],
   "source": [
    "TRAIN_DATASET_PATH = 'C:/Users/vanex/Downloads/Задание ML для кандидата/data.csv'\n",
    "TEST_DATASET_PATH = 'C:/Users/vanex/Downloads/Задание ML для кандидата/verify.csv'"
   ]
  },
  {
   "cell_type": "markdown",
   "metadata": {},
   "source": [
    "**Загрузка тренировочных данных**"
   ]
  },
  {
   "cell_type": "code",
   "execution_count": 9,
   "metadata": {},
   "outputs": [
    {
     "data": {
      "text/html": [
       "<div>\n",
       "<style scoped>\n",
       "    .dataframe tbody tr th:only-of-type {\n",
       "        vertical-align: middle;\n",
       "    }\n",
       "\n",
       "    .dataframe tbody tr th {\n",
       "        vertical-align: top;\n",
       "    }\n",
       "\n",
       "    .dataframe thead th {\n",
       "        text-align: right;\n",
       "    }\n",
       "</style>\n",
       "<table border=\"1\" class=\"dataframe\">\n",
       "  <thead>\n",
       "    <tr style=\"text-align: right;\">\n",
       "      <th></th>\n",
       "      <th>ID</th>\n",
       "      <th>feature_1</th>\n",
       "      <th>feature_2</th>\n",
       "      <th>feature_3</th>\n",
       "      <th>feature_4</th>\n",
       "      <th>feature_5</th>\n",
       "      <th>feature_6</th>\n",
       "      <th>feature_7</th>\n",
       "      <th>feature_8</th>\n",
       "      <th>feature_9</th>\n",
       "      <th>...</th>\n",
       "      <th>feature_116</th>\n",
       "      <th>feature_117</th>\n",
       "      <th>feature_118</th>\n",
       "      <th>feature_119</th>\n",
       "      <th>feature_120</th>\n",
       "      <th>feature_121</th>\n",
       "      <th>feature_122</th>\n",
       "      <th>feature_123</th>\n",
       "      <th>feature_124</th>\n",
       "      <th>target</th>\n",
       "    </tr>\n",
       "  </thead>\n",
       "  <tbody>\n",
       "    <tr>\n",
       "      <td>0</td>\n",
       "      <td>1</td>\n",
       "      <td>1</td>\n",
       "      <td>0</td>\n",
       "      <td>0</td>\n",
       "      <td>1381</td>\n",
       "      <td>63</td>\n",
       "      <td>0</td>\n",
       "      <td>0</td>\n",
       "      <td>1</td>\n",
       "      <td>0</td>\n",
       "      <td>...</td>\n",
       "      <td>0</td>\n",
       "      <td>0</td>\n",
       "      <td>0</td>\n",
       "      <td>0.0</td>\n",
       "      <td>7000</td>\n",
       "      <td>4000</td>\n",
       "      <td>7526.3157</td>\n",
       "      <td>12000</td>\n",
       "      <td>0.583333</td>\n",
       "      <td>0</td>\n",
       "    </tr>\n",
       "    <tr>\n",
       "      <td>1</td>\n",
       "      <td>2</td>\n",
       "      <td>0</td>\n",
       "      <td>0</td>\n",
       "      <td>0</td>\n",
       "      <td>1809</td>\n",
       "      <td>33</td>\n",
       "      <td>1</td>\n",
       "      <td>0</td>\n",
       "      <td>1</td>\n",
       "      <td>0</td>\n",
       "      <td>...</td>\n",
       "      <td>0</td>\n",
       "      <td>0</td>\n",
       "      <td>0</td>\n",
       "      <td>0.0</td>\n",
       "      <td>10000</td>\n",
       "      <td>1000</td>\n",
       "      <td>8393.4426</td>\n",
       "      <td>30000</td>\n",
       "      <td>0.333333</td>\n",
       "      <td>0</td>\n",
       "    </tr>\n",
       "    <tr>\n",
       "      <td>2</td>\n",
       "      <td>3</td>\n",
       "      <td>0</td>\n",
       "      <td>0</td>\n",
       "      <td>0</td>\n",
       "      <td>1804</td>\n",
       "      <td>29</td>\n",
       "      <td>0</td>\n",
       "      <td>1</td>\n",
       "      <td>0</td>\n",
       "      <td>0</td>\n",
       "      <td>...</td>\n",
       "      <td>0</td>\n",
       "      <td>0</td>\n",
       "      <td>0</td>\n",
       "      <td>0.0</td>\n",
       "      <td>3000</td>\n",
       "      <td>1000</td>\n",
       "      <td>3425.9259</td>\n",
       "      <td>15000</td>\n",
       "      <td>0.200000</td>\n",
       "      <td>0</td>\n",
       "    </tr>\n",
       "    <tr>\n",
       "      <td>3</td>\n",
       "      <td>4</td>\n",
       "      <td>0</td>\n",
       "      <td>0</td>\n",
       "      <td>0</td>\n",
       "      <td>1560</td>\n",
       "      <td>28</td>\n",
       "      <td>1</td>\n",
       "      <td>1</td>\n",
       "      <td>0</td>\n",
       "      <td>0</td>\n",
       "      <td>...</td>\n",
       "      <td>0</td>\n",
       "      <td>0</td>\n",
       "      <td>0</td>\n",
       "      <td>0.0</td>\n",
       "      <td>2000</td>\n",
       "      <td>1000</td>\n",
       "      <td>1946.6666</td>\n",
       "      <td>3000</td>\n",
       "      <td>0.666667</td>\n",
       "      <td>0</td>\n",
       "    </tr>\n",
       "    <tr>\n",
       "      <td>4</td>\n",
       "      <td>5</td>\n",
       "      <td>0</td>\n",
       "      <td>0</td>\n",
       "      <td>0</td>\n",
       "      <td>258</td>\n",
       "      <td>33</td>\n",
       "      <td>1</td>\n",
       "      <td>0</td>\n",
       "      <td>0</td>\n",
       "      <td>0</td>\n",
       "      <td>...</td>\n",
       "      <td>0</td>\n",
       "      <td>0</td>\n",
       "      <td>0</td>\n",
       "      <td>0.0</td>\n",
       "      <td>2000</td>\n",
       "      <td>2000</td>\n",
       "      <td>4444.4444</td>\n",
       "      <td>8000</td>\n",
       "      <td>0.250000</td>\n",
       "      <td>0</td>\n",
       "    </tr>\n",
       "  </tbody>\n",
       "</table>\n",
       "<p>5 rows × 126 columns</p>\n",
       "</div>"
      ],
      "text/plain": [
       "   ID  feature_1  feature_2  feature_3  feature_4  feature_5  feature_6  \\\n",
       "0   1          1          0          0       1381         63          0   \n",
       "1   2          0          0          0       1809         33          1   \n",
       "2   3          0          0          0       1804         29          0   \n",
       "3   4          0          0          0       1560         28          1   \n",
       "4   5          0          0          0        258         33          1   \n",
       "\n",
       "   feature_7  feature_8  feature_9  ...  feature_116  feature_117  \\\n",
       "0          0          1          0  ...            0            0   \n",
       "1          0          1          0  ...            0            0   \n",
       "2          1          0          0  ...            0            0   \n",
       "3          1          0          0  ...            0            0   \n",
       "4          0          0          0  ...            0            0   \n",
       "\n",
       "   feature_118  feature_119  feature_120  feature_121  feature_122  \\\n",
       "0            0          0.0         7000         4000    7526.3157   \n",
       "1            0          0.0        10000         1000    8393.4426   \n",
       "2            0          0.0         3000         1000    3425.9259   \n",
       "3            0          0.0         2000         1000    1946.6666   \n",
       "4            0          0.0         2000         2000    4444.4444   \n",
       "\n",
       "   feature_123  feature_124  target  \n",
       "0        12000     0.583333       0  \n",
       "1        30000     0.333333       0  \n",
       "2        15000     0.200000       0  \n",
       "3         3000     0.666667       0  \n",
       "4         8000     0.250000       0  \n",
       "\n",
       "[5 rows x 126 columns]"
      ]
     },
     "execution_count": 9,
     "metadata": {},
     "output_type": "execute_result"
    }
   ],
   "source": [
    "df_train = pd.read_csv(TRAIN_DATASET_PATH, delimiter =';')\n",
    "df_train.head()"
   ]
  },
  {
   "cell_type": "markdown",
   "metadata": {},
   "source": [
    "**Обзор количественных признаков**"
   ]
  },
  {
   "cell_type": "code",
   "execution_count": 10,
   "metadata": {},
   "outputs": [
    {
     "data": {
      "text/plain": [
       "(255820, 126)"
      ]
     },
     "execution_count": 10,
     "metadata": {},
     "output_type": "execute_result"
    }
   ],
   "source": [
    "df_train.shape"
   ]
  },
  {
   "cell_type": "code",
   "execution_count": 11,
   "metadata": {
    "scrolled": true
   },
   "outputs": [
    {
     "data": {
      "text/html": [
       "<div>\n",
       "<style scoped>\n",
       "    .dataframe tbody tr th:only-of-type {\n",
       "        vertical-align: middle;\n",
       "    }\n",
       "\n",
       "    .dataframe tbody tr th {\n",
       "        vertical-align: top;\n",
       "    }\n",
       "\n",
       "    .dataframe thead th {\n",
       "        text-align: right;\n",
       "    }\n",
       "</style>\n",
       "<table border=\"1\" class=\"dataframe\">\n",
       "  <thead>\n",
       "    <tr style=\"text-align: right;\">\n",
       "      <th></th>\n",
       "      <th>ID</th>\n",
       "      <th>feature_1</th>\n",
       "      <th>feature_2</th>\n",
       "      <th>feature_3</th>\n",
       "      <th>feature_4</th>\n",
       "      <th>feature_5</th>\n",
       "      <th>feature_6</th>\n",
       "      <th>feature_7</th>\n",
       "      <th>feature_8</th>\n",
       "      <th>feature_9</th>\n",
       "      <th>...</th>\n",
       "      <th>feature_116</th>\n",
       "      <th>feature_117</th>\n",
       "      <th>feature_118</th>\n",
       "      <th>feature_119</th>\n",
       "      <th>feature_120</th>\n",
       "      <th>feature_121</th>\n",
       "      <th>feature_122</th>\n",
       "      <th>feature_123</th>\n",
       "      <th>feature_124</th>\n",
       "      <th>target</th>\n",
       "    </tr>\n",
       "  </thead>\n",
       "  <tbody>\n",
       "    <tr>\n",
       "      <td>count</td>\n",
       "      <td>255820.000000</td>\n",
       "      <td>255820.000000</td>\n",
       "      <td>255820.000000</td>\n",
       "      <td>255820.000000</td>\n",
       "      <td>255820.000000</td>\n",
       "      <td>255820.000000</td>\n",
       "      <td>255820.000000</td>\n",
       "      <td>255820.000000</td>\n",
       "      <td>255820.000000</td>\n",
       "      <td>255820.000000</td>\n",
       "      <td>...</td>\n",
       "      <td>255820.000000</td>\n",
       "      <td>255820.000000</td>\n",
       "      <td>255820.000000</td>\n",
       "      <td>255820.000000</td>\n",
       "      <td>255820.000000</td>\n",
       "      <td>255820.000000</td>\n",
       "      <td>255820.000000</td>\n",
       "      <td>255820.000000</td>\n",
       "      <td>255820.000000</td>\n",
       "      <td>255820.000000</td>\n",
       "    </tr>\n",
       "    <tr>\n",
       "      <td>mean</td>\n",
       "      <td>127910.500000</td>\n",
       "      <td>0.356731</td>\n",
       "      <td>0.147756</td>\n",
       "      <td>0.002564</td>\n",
       "      <td>819.453049</td>\n",
       "      <td>41.053213</td>\n",
       "      <td>0.412751</td>\n",
       "      <td>0.355516</td>\n",
       "      <td>0.372434</td>\n",
       "      <td>0.063498</td>\n",
       "      <td>...</td>\n",
       "      <td>0.015581</td>\n",
       "      <td>0.026964</td>\n",
       "      <td>0.035990</td>\n",
       "      <td>0.005929</td>\n",
       "      <td>7201.150125</td>\n",
       "      <td>2866.290818</td>\n",
       "      <td>5904.254582</td>\n",
       "      <td>12100.793241</td>\n",
       "      <td>0.659698</td>\n",
       "      <td>0.197444</td>\n",
       "    </tr>\n",
       "    <tr>\n",
       "      <td>std</td>\n",
       "      <td>73849.017269</td>\n",
       "      <td>0.479035</td>\n",
       "      <td>0.354859</td>\n",
       "      <td>0.050574</td>\n",
       "      <td>772.966593</td>\n",
       "      <td>13.754019</td>\n",
       "      <td>0.492330</td>\n",
       "      <td>0.478670</td>\n",
       "      <td>0.483454</td>\n",
       "      <td>0.243857</td>\n",
       "      <td>...</td>\n",
       "      <td>0.123849</td>\n",
       "      <td>0.161979</td>\n",
       "      <td>0.256262</td>\n",
       "      <td>0.057655</td>\n",
       "      <td>8139.745183</td>\n",
       "      <td>3241.112692</td>\n",
       "      <td>4832.221046</td>\n",
       "      <td>9928.531737</td>\n",
       "      <td>0.343397</td>\n",
       "      <td>0.398071</td>\n",
       "    </tr>\n",
       "    <tr>\n",
       "      <td>min</td>\n",
       "      <td>1.000000</td>\n",
       "      <td>0.000000</td>\n",
       "      <td>0.000000</td>\n",
       "      <td>0.000000</td>\n",
       "      <td>-18.000000</td>\n",
       "      <td>18.000000</td>\n",
       "      <td>0.000000</td>\n",
       "      <td>0.000000</td>\n",
       "      <td>0.000000</td>\n",
       "      <td>0.000000</td>\n",
       "      <td>...</td>\n",
       "      <td>0.000000</td>\n",
       "      <td>0.000000</td>\n",
       "      <td>0.000000</td>\n",
       "      <td>0.000000</td>\n",
       "      <td>1000.000000</td>\n",
       "      <td>1000.000000</td>\n",
       "      <td>1000.000000</td>\n",
       "      <td>1000.000000</td>\n",
       "      <td>0.016667</td>\n",
       "      <td>0.000000</td>\n",
       "    </tr>\n",
       "    <tr>\n",
       "      <td>25%</td>\n",
       "      <td>63955.750000</td>\n",
       "      <td>0.000000</td>\n",
       "      <td>0.000000</td>\n",
       "      <td>0.000000</td>\n",
       "      <td>163.000000</td>\n",
       "      <td>30.000000</td>\n",
       "      <td>0.000000</td>\n",
       "      <td>0.000000</td>\n",
       "      <td>0.000000</td>\n",
       "      <td>0.000000</td>\n",
       "      <td>...</td>\n",
       "      <td>0.000000</td>\n",
       "      <td>0.000000</td>\n",
       "      <td>0.000000</td>\n",
       "      <td>0.000000</td>\n",
       "      <td>2000.000000</td>\n",
       "      <td>1000.000000</td>\n",
       "      <td>2559.024050</td>\n",
       "      <td>5000.000000</td>\n",
       "      <td>0.333333</td>\n",
       "      <td>0.000000</td>\n",
       "    </tr>\n",
       "    <tr>\n",
       "      <td>50%</td>\n",
       "      <td>127910.500000</td>\n",
       "      <td>0.000000</td>\n",
       "      <td>0.000000</td>\n",
       "      <td>0.000000</td>\n",
       "      <td>562.000000</td>\n",
       "      <td>38.000000</td>\n",
       "      <td>0.000000</td>\n",
       "      <td>0.000000</td>\n",
       "      <td>0.000000</td>\n",
       "      <td>0.000000</td>\n",
       "      <td>...</td>\n",
       "      <td>0.000000</td>\n",
       "      <td>0.000000</td>\n",
       "      <td>0.000000</td>\n",
       "      <td>0.000000</td>\n",
       "      <td>4000.000000</td>\n",
       "      <td>2000.000000</td>\n",
       "      <td>4277.777700</td>\n",
       "      <td>10000.000000</td>\n",
       "      <td>0.705882</td>\n",
       "      <td>0.000000</td>\n",
       "    </tr>\n",
       "    <tr>\n",
       "      <td>75%</td>\n",
       "      <td>191865.250000</td>\n",
       "      <td>1.000000</td>\n",
       "      <td>0.000000</td>\n",
       "      <td>0.000000</td>\n",
       "      <td>1329.000000</td>\n",
       "      <td>52.000000</td>\n",
       "      <td>1.000000</td>\n",
       "      <td>1.000000</td>\n",
       "      <td>1.000000</td>\n",
       "      <td>0.000000</td>\n",
       "      <td>...</td>\n",
       "      <td>0.000000</td>\n",
       "      <td>0.000000</td>\n",
       "      <td>0.000000</td>\n",
       "      <td>0.000000</td>\n",
       "      <td>10000.000000</td>\n",
       "      <td>3000.000000</td>\n",
       "      <td>7638.338725</td>\n",
       "      <td>16000.000000</td>\n",
       "      <td>1.000000</td>\n",
       "      <td>0.000000</td>\n",
       "    </tr>\n",
       "    <tr>\n",
       "      <td>max</td>\n",
       "      <td>255820.000000</td>\n",
       "      <td>1.000000</td>\n",
       "      <td>1.000000</td>\n",
       "      <td>1.000000</td>\n",
       "      <td>3451.000000</td>\n",
       "      <td>82.000000</td>\n",
       "      <td>1.000000</td>\n",
       "      <td>1.000000</td>\n",
       "      <td>1.000000</td>\n",
       "      <td>1.000000</td>\n",
       "      <td>...</td>\n",
       "      <td>1.000000</td>\n",
       "      <td>1.000000</td>\n",
       "      <td>12.000000</td>\n",
       "      <td>1.000000</td>\n",
       "      <td>99000.000000</td>\n",
       "      <td>60000.000000</td>\n",
       "      <td>60000.000000</td>\n",
       "      <td>99000.000000</td>\n",
       "      <td>1.000000</td>\n",
       "      <td>1.000000</td>\n",
       "    </tr>\n",
       "  </tbody>\n",
       "</table>\n",
       "<p>8 rows × 126 columns</p>\n",
       "</div>"
      ],
      "text/plain": [
       "                  ID      feature_1      feature_2      feature_3  \\\n",
       "count  255820.000000  255820.000000  255820.000000  255820.000000   \n",
       "mean   127910.500000       0.356731       0.147756       0.002564   \n",
       "std     73849.017269       0.479035       0.354859       0.050574   \n",
       "min         1.000000       0.000000       0.000000       0.000000   \n",
       "25%     63955.750000       0.000000       0.000000       0.000000   \n",
       "50%    127910.500000       0.000000       0.000000       0.000000   \n",
       "75%    191865.250000       1.000000       0.000000       0.000000   \n",
       "max    255820.000000       1.000000       1.000000       1.000000   \n",
       "\n",
       "           feature_4      feature_5      feature_6      feature_7  \\\n",
       "count  255820.000000  255820.000000  255820.000000  255820.000000   \n",
       "mean      819.453049      41.053213       0.412751       0.355516   \n",
       "std       772.966593      13.754019       0.492330       0.478670   \n",
       "min       -18.000000      18.000000       0.000000       0.000000   \n",
       "25%       163.000000      30.000000       0.000000       0.000000   \n",
       "50%       562.000000      38.000000       0.000000       0.000000   \n",
       "75%      1329.000000      52.000000       1.000000       1.000000   \n",
       "max      3451.000000      82.000000       1.000000       1.000000   \n",
       "\n",
       "           feature_8      feature_9  ...    feature_116    feature_117  \\\n",
       "count  255820.000000  255820.000000  ...  255820.000000  255820.000000   \n",
       "mean        0.372434       0.063498  ...       0.015581       0.026964   \n",
       "std         0.483454       0.243857  ...       0.123849       0.161979   \n",
       "min         0.000000       0.000000  ...       0.000000       0.000000   \n",
       "25%         0.000000       0.000000  ...       0.000000       0.000000   \n",
       "50%         0.000000       0.000000  ...       0.000000       0.000000   \n",
       "75%         1.000000       0.000000  ...       0.000000       0.000000   \n",
       "max         1.000000       1.000000  ...       1.000000       1.000000   \n",
       "\n",
       "         feature_118    feature_119    feature_120    feature_121  \\\n",
       "count  255820.000000  255820.000000  255820.000000  255820.000000   \n",
       "mean        0.035990       0.005929    7201.150125    2866.290818   \n",
       "std         0.256262       0.057655    8139.745183    3241.112692   \n",
       "min         0.000000       0.000000    1000.000000    1000.000000   \n",
       "25%         0.000000       0.000000    2000.000000    1000.000000   \n",
       "50%         0.000000       0.000000    4000.000000    2000.000000   \n",
       "75%         0.000000       0.000000   10000.000000    3000.000000   \n",
       "max        12.000000       1.000000   99000.000000   60000.000000   \n",
       "\n",
       "         feature_122    feature_123    feature_124         target  \n",
       "count  255820.000000  255820.000000  255820.000000  255820.000000  \n",
       "mean     5904.254582   12100.793241       0.659698       0.197444  \n",
       "std      4832.221046    9928.531737       0.343397       0.398071  \n",
       "min      1000.000000    1000.000000       0.016667       0.000000  \n",
       "25%      2559.024050    5000.000000       0.333333       0.000000  \n",
       "50%      4277.777700   10000.000000       0.705882       0.000000  \n",
       "75%      7638.338725   16000.000000       1.000000       0.000000  \n",
       "max     60000.000000   99000.000000       1.000000       1.000000  \n",
       "\n",
       "[8 rows x 126 columns]"
      ]
     },
     "execution_count": 11,
     "metadata": {},
     "output_type": "execute_result"
    }
   ],
   "source": [
    "df_train.describe(include='all')"
   ]
  },
  {
   "cell_type": "markdown",
   "metadata": {},
   "source": [
    "**Обзор целевой переменной**"
   ]
  },
  {
   "cell_type": "code",
   "execution_count": 12,
   "metadata": {},
   "outputs": [
    {
     "data": {
      "text/plain": [
       "0    0.802556\n",
       "1    0.197444\n",
       "Name: target, dtype: float64"
      ]
     },
     "execution_count": 12,
     "metadata": {},
     "output_type": "execute_result"
    }
   ],
   "source": [
    "df_train['target'].value_counts(normalize=True)"
   ]
  },
  {
   "cell_type": "markdown",
   "metadata": {},
   "source": [
    "### Список всех колонок<a class=\"anchor\" id=\"gaps\"></a>"
   ]
  },
  {
   "cell_type": "code",
   "execution_count": 13,
   "metadata": {
    "scrolled": true
   },
   "outputs": [
    {
     "data": {
      "text/plain": [
       "array(['ID', 'feature_1', 'feature_2', 'feature_3', 'feature_4',\n",
       "       'feature_5', 'feature_6', 'feature_7', 'feature_8', 'feature_9',\n",
       "       'feature_10', 'feature_11', 'feature_12', 'feature_13',\n",
       "       'feature_14', 'feature_15', 'feature_16', 'feature_17',\n",
       "       'feature_18', 'feature_19', 'feature_20', 'feature_21',\n",
       "       'feature_22', 'feature_23', 'feature_24', 'feature_25',\n",
       "       'feature_26', 'feature_27', 'feature_28', 'feature_29',\n",
       "       'feature_30', 'feature_31', 'feature_32', 'feature_33',\n",
       "       'feature_34', 'feature_35', 'feature_36', 'feature_37',\n",
       "       'feature_38', 'feature_39', 'feature_40', 'feature_41',\n",
       "       'feature_42', 'feature_43', 'feature_44', 'feature_45',\n",
       "       'feature_46', 'feature_47', 'feature_48', 'feature_49',\n",
       "       'feature_50', 'feature_51', 'feature_52', 'feature_53',\n",
       "       'feature_54', 'feature_55', 'feature_56', 'feature_57',\n",
       "       'feature_58', 'feature_59', 'feature_60', 'feature_61',\n",
       "       'feature_62', 'feature_63', 'feature_64', 'feature_65',\n",
       "       'feature_66', 'feature_67', 'feature_68', 'feature_69',\n",
       "       'feature_70', 'feature_71', 'feature_72', 'feature_73',\n",
       "       'feature_74', 'feature_75', 'feature_76', 'feature_77',\n",
       "       'feature_78', 'feature_79', 'feature_80', 'feature_81',\n",
       "       'feature_82', 'feature_83', 'feature_84', 'feature_85',\n",
       "       'feature_86', 'feature_87', 'feature_88', 'feature_89',\n",
       "       'feature_90', 'feature_91', 'feature_92', 'feature_93',\n",
       "       'feature_94', 'feature_95', 'feature_96', 'feature_97',\n",
       "       'feature_98', 'feature_99', 'feature_100', 'feature_101',\n",
       "       'feature_102', 'feature_103', 'feature_104', 'feature_105',\n",
       "       'feature_106', 'feature_107', 'feature_108', 'feature_109',\n",
       "       'feature_110', 'feature_111', 'feature_112', 'feature_113',\n",
       "       'feature_114', 'feature_115', 'feature_116', 'feature_117',\n",
       "       'feature_118', 'feature_119', 'feature_120', 'feature_121',\n",
       "       'feature_122', 'feature_123', 'feature_124', 'target'],\n",
       "      dtype=object)"
      ]
     },
     "execution_count": 13,
     "metadata": {},
     "output_type": "execute_result"
    }
   ],
   "source": [
    "df_train.columns.values"
   ]
  },
  {
   "cell_type": "markdown",
   "metadata": {},
   "source": [
    "### Обработка пропусков<a class=\"anchor\" id=\"gaps\"></a>"
   ]
  },
  {
   "cell_type": "markdown",
   "metadata": {},
   "source": [
    "**Процентный список пропущенных данных**"
   ]
  },
  {
   "cell_type": "code",
   "execution_count": 14,
   "metadata": {
    "scrolled": true
   },
   "outputs": [
    {
     "name": "stdout",
     "output_type": "stream",
     "text": [
      "ID - 0.0%\n",
      "feature_1 - 0.0%\n",
      "feature_2 - 0.0%\n",
      "feature_3 - 0.0%\n",
      "feature_4 - 0.0%\n",
      "feature_5 - 0.0%\n",
      "feature_6 - 0.0%\n",
      "feature_7 - 0.0%\n",
      "feature_8 - 0.0%\n",
      "feature_9 - 0.0%\n",
      "feature_10 - 0.0%\n",
      "feature_11 - 0.0%\n",
      "feature_12 - 0.0%\n",
      "feature_13 - 0.0%\n",
      "feature_14 - 0.0%\n",
      "feature_15 - 0.0%\n",
      "feature_16 - 0.0%\n",
      "feature_17 - 0.0%\n",
      "feature_18 - 0.0%\n",
      "feature_19 - 0.0%\n",
      "feature_20 - 0.0%\n",
      "feature_21 - 0.0%\n",
      "feature_22 - 0.0%\n",
      "feature_23 - 0.0%\n",
      "feature_24 - 0.0%\n",
      "feature_25 - 0.0%\n",
      "feature_26 - 0.0%\n",
      "feature_27 - 0.0%\n",
      "feature_28 - 0.0%\n",
      "feature_29 - 0.0%\n",
      "feature_30 - 0.0%\n",
      "feature_31 - 0.0%\n",
      "feature_32 - 0.0%\n",
      "feature_33 - 0.0%\n",
      "feature_34 - 0.0%\n",
      "feature_35 - 0.0%\n",
      "feature_36 - 0.0%\n",
      "feature_37 - 0.0%\n",
      "feature_38 - 0.0%\n",
      "feature_39 - 0.0%\n",
      "feature_40 - 0.0%\n",
      "feature_41 - 0.0%\n",
      "feature_42 - 0.0%\n",
      "feature_43 - 0.0%\n",
      "feature_44 - 0.0%\n",
      "feature_45 - 0.0%\n",
      "feature_46 - 0.0%\n",
      "feature_47 - 0.0%\n",
      "feature_48 - 0.0%\n",
      "feature_49 - 0.0%\n",
      "feature_50 - 0.0%\n",
      "feature_51 - 0.0%\n",
      "feature_52 - 0.0%\n",
      "feature_53 - 0.0%\n",
      "feature_54 - 0.0%\n",
      "feature_55 - 0.0%\n",
      "feature_56 - 0.0%\n",
      "feature_57 - 0.0%\n",
      "feature_58 - 0.0%\n",
      "feature_59 - 0.0%\n",
      "feature_60 - 0.0%\n",
      "feature_61 - 0.0%\n",
      "feature_62 - 0.0%\n",
      "feature_63 - 0.0%\n",
      "feature_64 - 0.0%\n",
      "feature_65 - 0.0%\n",
      "feature_66 - 0.0%\n",
      "feature_67 - 0.0%\n",
      "feature_68 - 0.0%\n",
      "feature_69 - 0.0%\n",
      "feature_70 - 0.0%\n",
      "feature_71 - 0.0%\n",
      "feature_72 - 0.0%\n",
      "feature_73 - 0.0%\n",
      "feature_74 - 0.0%\n",
      "feature_75 - 0.0%\n",
      "feature_76 - 0.0%\n",
      "feature_77 - 0.0%\n",
      "feature_78 - 0.0%\n",
      "feature_79 - 0.0%\n",
      "feature_80 - 0.0%\n",
      "feature_81 - 0.0%\n",
      "feature_82 - 0.0%\n",
      "feature_83 - 0.0%\n",
      "feature_84 - 0.0%\n",
      "feature_85 - 0.0%\n",
      "feature_86 - 0.0%\n",
      "feature_87 - 0.0%\n",
      "feature_88 - 0.0%\n",
      "feature_89 - 0.0%\n",
      "feature_90 - 0.0%\n",
      "feature_91 - 0.0%\n",
      "feature_92 - 0.0%\n",
      "feature_93 - 0.0%\n",
      "feature_94 - 0.0%\n",
      "feature_95 - 0.0%\n",
      "feature_96 - 0.0%\n",
      "feature_97 - 0.0%\n",
      "feature_98 - 0.0%\n",
      "feature_99 - 0.0%\n",
      "feature_100 - 0.0%\n",
      "feature_101 - 0.0%\n",
      "feature_102 - 15.0%\n",
      "feature_103 - 15.0%\n",
      "feature_104 - 15.0%\n",
      "feature_105 - 15.0%\n",
      "feature_106 - 16.0%\n",
      "feature_107 - 0.0%\n",
      "feature_108 - 0.0%\n",
      "feature_109 - 0.0%\n",
      "feature_110 - 0.0%\n",
      "feature_111 - 0.0%\n",
      "feature_112 - 0.0%\n",
      "feature_113 - 0.0%\n",
      "feature_114 - 0.0%\n",
      "feature_115 - 0.0%\n",
      "feature_116 - 0.0%\n",
      "feature_117 - 0.0%\n",
      "feature_118 - 0.0%\n",
      "feature_119 - 0.0%\n",
      "feature_120 - 0.0%\n",
      "feature_121 - 0.0%\n",
      "feature_122 - 0.0%\n",
      "feature_123 - 0.0%\n",
      "feature_124 - 0.0%\n",
      "target - 0.0%\n"
     ]
    }
   ],
   "source": [
    "for col in df_train.columns:\n",
    "    pct_missing = np.mean(df_train[col].isnull())\n",
    "    print('{} - {}%'.format(col, round(pct_missing*100)))"
   ]
  },
  {
   "cell_type": "markdown",
   "metadata": {},
   "source": [
    "**Ниже будут напечатаны первые 10 столбцов Nan в порядке убывания**"
   ]
  },
  {
   "cell_type": "code",
   "execution_count": 15,
   "metadata": {},
   "outputs": [
    {
     "data": {
      "text/plain": [
       "feature_106    41893\n",
       "feature_105    37795\n",
       "feature_104    37795\n",
       "feature_103    37795\n",
       "feature_102    37795\n",
       "feature_38         0\n",
       "feature_40         0\n",
       "feature_39         0\n",
       "target             0\n",
       "feature_41         0\n",
       "dtype: int64"
      ]
     },
     "execution_count": 15,
     "metadata": {},
     "output_type": "execute_result"
    }
   ],
   "source": [
    "df_train.isnull().sum().sort_values(ascending = False).head(10)"
   ]
  },
  {
   "cell_type": "markdown",
   "metadata": {},
   "source": [
    "### Неинформативные признаки\n",
    "Составим список признаков, у которых более 99% строк содержат одно и то же значение"
   ]
  },
  {
   "cell_type": "code",
   "execution_count": 16,
   "metadata": {
    "scrolled": true
   },
   "outputs": [
    {
     "name": "stdout",
     "output_type": "stream",
     "text": [
      "feature_3: 99.74357%\n",
      "0    255164\n",
      "1       656\n",
      "Name: feature_3, dtype: int64\n",
      "\n",
      "feature_15: 99.43085%\n",
      "0    254364\n",
      "1      1456\n",
      "Name: feature_15, dtype: int64\n",
      "\n",
      "feature_20: 99.67125%\n",
      "0    254979\n",
      "1       841\n",
      "Name: feature_20, dtype: int64\n",
      "\n",
      "feature_22: 99.10992%\n",
      "0    253543\n",
      "1      2277\n",
      "Name: feature_22, dtype: int64\n",
      "\n",
      "feature_27: 99.98397%\n",
      "0    255779\n",
      "1        41\n",
      "Name: feature_27, dtype: int64\n",
      "\n",
      "feature_32: 99.84403%\n",
      "0    255421\n",
      "1       399\n",
      "Name: feature_32, dtype: int64\n",
      "\n",
      "feature_35: 99.07748%\n",
      "0    253460\n",
      "1      2360\n",
      "Name: feature_35, dtype: int64\n",
      "\n",
      "feature_37: 99.88234%\n",
      "0    255519\n",
      "1       301\n",
      "Name: feature_37, dtype: int64\n",
      "\n",
      "feature_41: 99.36831%\n",
      "0    254204\n",
      "1      1616\n",
      "Name: feature_41, dtype: int64\n",
      "\n",
      "feature_51: 99.99961%\n",
      "0    255819\n",
      "1         1\n",
      "Name: feature_51, dtype: int64\n",
      "\n",
      "feature_53: 99.89602%\n",
      "0.00000       255554\n",
      "351.00000          2\n",
      "195.00000          2\n",
      "1209.00000         2\n",
      "474.86000          1\n",
      "               ...  \n",
      "429.78000          1\n",
      "1154.59305         1\n",
      "204.40480          1\n",
      "2021.61380         1\n",
      "836.51945          1\n",
      "Name: feature_53, Length: 264, dtype: int64\n",
      "\n",
      "feature_68: 99.90540%\n",
      "0    255578\n",
      "1       242\n",
      "Name: feature_68, dtype: int64\n",
      "\n",
      "feature_76: 99.89602%\n",
      "0    255554\n",
      "1       266\n",
      "Name: feature_76, dtype: int64\n",
      "\n",
      "feature_79: 99.22836%\n",
      "0    253846\n",
      "1      1974\n",
      "Name: feature_79, dtype: int64\n",
      "\n"
     ]
    }
   ],
   "source": [
    "num_rows = len(df_train.index)\n",
    "low_information_cols = [] #\n",
    "\n",
    "for col in df_train.columns:\n",
    "    cnts = df_train[col].value_counts(dropna=False)\n",
    "    top_pct = (cnts/num_rows).iloc[0]\n",
    "    \n",
    "    if top_pct > 0.99:\n",
    "        low_information_cols.append(col)\n",
    "        df_train = df_train.drop(col, axis = 'columns') # здесь мы постепенно удаляем такие признаки\n",
    "        print('{0}: {1:.5f}%'.format(col, top_pct*100))\n",
    "        print(cnts)\n",
    "        print()"
   ]
  },
  {
   "cell_type": "markdown",
   "metadata": {},
   "source": [
    "### Ищем дубликаты<a class=\"anchor\" id=\"gaps\"></a>"
   ]
  },
  {
   "cell_type": "code",
   "execution_count": 17,
   "metadata": {},
   "outputs": [
    {
     "data": {
      "text/plain": [
       "0"
      ]
     },
     "execution_count": 17,
     "metadata": {},
     "output_type": "execute_result"
    }
   ],
   "source": [
    "df_train.duplicated().sum()"
   ]
  },
  {
   "cell_type": "markdown",
   "metadata": {},
   "source": [
    "**Построение гистограммы для обнаружения выбросов**"
   ]
  },
  {
   "cell_type": "code",
   "execution_count": 18,
   "metadata": {},
   "outputs": [
    {
     "data": {
      "text/plain": [
       "<matplotlib.axes._subplots.AxesSubplot at 0x2038db2f148>"
      ]
     },
     "execution_count": 18,
     "metadata": {},
     "output_type": "execute_result"
    },
    {
     "data": {
      "image/png": "[encoded data removed]",
      "text/plain": [
       "<Figure size 432x288 with 1 Axes>"
      ]
     },
     "metadata": {
      "needs_background": "light"
     },
     "output_type": "display_data"
    }
   ],
   "source": [
    "df_train.boxplot(column=['feature_106'])"
   ]
  },
  {
   "cell_type": "markdown",
   "metadata": {},
   "source": [
    "#### Масштабируем"
   ]
  },
  {
   "cell_type": "code",
   "execution_count": 19,
   "metadata": {},
   "outputs": [],
   "source": [
    "scaler = RobustScaler()"
   ]
  },
  {
   "cell_type": "markdown",
   "metadata": {},
   "source": [
    "**Заполняем пропуски признаков 'feature_102' - 'feature_106'**\n",
    "\n",
    "Разделяем на два датасета.\n",
    "\n",
    "X содержит признаки для обучения.\n",
    "\n",
    "y - все известные значения параметра.\n",
    "\n",
    "X_nan - строки с пропущенным признаком параметра."
   ]
  },
  {
   "cell_type": "code",
   "execution_count": 20,
   "metadata": {},
   "outputs": [],
   "source": [
    "X = df_train.drop(['feature_102', 'feature_103', 'feature_104', 'feature_105', 'feature_106'], axis = 'columns')[~df_train['feature_102'].isna()]\n",
    "\n",
    "y = df_train.loc[~df_train['feature_102'].isna(), 'feature_102'].astype(int)\n",
    "\n",
    "X_nan = df_train.drop(['feature_102', 'feature_103', 'feature_104', 'feature_105', 'feature_106'], axis = 'columns')[df_train['feature_102'].isna()]"
   ]
  },
  {
   "cell_type": "code",
   "execution_count": 21,
   "metadata": {},
   "outputs": [],
   "source": [
    "filling_empty_cells_train('feature_102')"
   ]
  },
  {
   "cell_type": "code",
   "execution_count": 22,
   "metadata": {},
   "outputs": [],
   "source": [
    "X = df_train.drop(['feature_103', 'feature_104', 'feature_105', 'feature_106'], axis = 'columns')[~df_train['feature_103'].isna()]\n",
    "\n",
    "y = df_train.loc[~df_train['feature_103'].isna(), 'feature_103'].astype(int)\n",
    "\n",
    "X_nan = df_train.drop(['feature_103', 'feature_104', 'feature_105', 'feature_106'], axis = 'columns')[df_train['feature_103'].isna()]"
   ]
  },
  {
   "cell_type": "code",
   "execution_count": 23,
   "metadata": {},
   "outputs": [],
   "source": [
    "filling_empty_cells_train('feature_103')"
   ]
  },
  {
   "cell_type": "code",
   "execution_count": 24,
   "metadata": {},
   "outputs": [],
   "source": [
    "X = df_train.drop(['feature_104', 'feature_105', 'feature_106'], axis = 'columns')[~df_train['feature_104'].isna()]\n",
    "\n",
    "y = df_train.loc[~df_train['feature_104'].isna(), 'feature_104'].astype(int)\n",
    "\n",
    "X_nan = df_train.drop(['feature_104', 'feature_105', 'feature_106'], axis = 'columns')[df_train['feature_104'].isna()]"
   ]
  },
  {
   "cell_type": "code",
   "execution_count": 25,
   "metadata": {},
   "outputs": [],
   "source": [
    "filling_empty_cells_train('feature_104')"
   ]
  },
  {
   "cell_type": "code",
   "execution_count": 26,
   "metadata": {},
   "outputs": [],
   "source": [
    "X = df_train.drop(['feature_105', 'feature_106'], axis = 'columns')[~df_train['feature_105'].isna()]\n",
    "\n",
    "y = df_train.loc[~df_train['feature_105'].isna(), 'feature_105'].astype(int)\n",
    "\n",
    "X_nan = df_train.drop(['feature_105', 'feature_106'], axis = 'columns')[df_train['feature_105'].isna()]"
   ]
  },
  {
   "cell_type": "code",
   "execution_count": 27,
   "metadata": {},
   "outputs": [],
   "source": [
    "filling_empty_cells_train('feature_105')"
   ]
  },
  {
   "cell_type": "code",
   "execution_count": 28,
   "metadata": {},
   "outputs": [],
   "source": [
    "X = df_train.drop(['feature_106'], axis = 'columns')[~df_train['feature_106'].isna()]\n",
    "\n",
    "y = df_train.loc[~df_train['feature_106'].isna(), 'feature_106'].astype(int)\n",
    "\n",
    "X_nan = df_train.drop(['feature_106'], axis = 'columns')[df_train['feature_106'].isna()]"
   ]
  },
  {
   "cell_type": "code",
   "execution_count": 29,
   "metadata": {},
   "outputs": [],
   "source": [
    "filling_empty_cells_train('feature_106')"
   ]
  },
  {
   "cell_type": "markdown",
   "metadata": {},
   "source": [
    "### Построение модели классификации"
   ]
  },
  {
   "cell_type": "markdown",
   "metadata": {},
   "source": [
    "**Выделение целевой переменной и групп признаков**"
   ]
  },
  {
   "cell_type": "code",
   "execution_count": 30,
   "metadata": {},
   "outputs": [],
   "source": [
    "TARGET_NAME = 'target'\n",
    "\n",
    "BASE_FEATURE_NAMES = df_train.columns.drop(TARGET_NAME).tolist()"
   ]
  },
  {
   "cell_type": "markdown",
   "metadata": {},
   "source": [
    "**Разбиение на train и test**"
   ]
  },
  {
   "cell_type": "code",
   "execution_count": 31,
   "metadata": {},
   "outputs": [
    {
     "data": {
      "text/plain": [
       "((179074, 111), (76746, 111), (179074,), (76746,))"
      ]
     },
     "execution_count": 31,
     "metadata": {},
     "output_type": "execute_result"
    }
   ],
   "source": [
    "X = df_train[BASE_FEATURE_NAMES]\n",
    "y = df_train[TARGET_NAME]\n",
    "\n",
    "X_train, X_test, y_train, y_test = train_test_split(X, y, shuffle=True, test_size=0.30, random_state=21)\n",
    "X_train.shape, X_test.shape, y_train.shape, y_test.shape "
   ]
  },
  {
   "cell_type": "markdown",
   "metadata": {},
   "source": [
    "**Логистическая регрессия**"
   ]
  },
  {
   "cell_type": "code",
   "execution_count": 32,
   "metadata": {
    "scrolled": false
   },
   "outputs": [
    {
     "name": "stderr",
     "output_type": "stream",
     "text": [
      "C:\\Users\\vanex\\Anaconda3\\lib\\site-packages\\sklearn\\linear_model\\_logistic.py:765: ConvergenceWarning: lbfgs failed to converge (status=1):\n",
      "STOP: TOTAL NO. of ITERATIONS REACHED LIMIT.\n",
      "\n",
      "Increase the number of iterations (max_iter) or scale the data as shown in:\n",
      "    https://scikit-learn.org/stable/modules/preprocessing.html\n",
      "Please also refer to the documentation for alternative solver options:\n",
      "    https://scikit-learn.org/stable/modules/linear_model.html#logistic-regression\n",
      "  extra_warning_msg=_LOGISTIC_SOLVER_CONVERGENCE_MSG)\n"
     ]
    },
    {
     "name": "stdout",
     "output_type": "stream",
     "text": [
      "TRAIN\n",
      "\n",
      "              precision    recall  f1-score   support\n",
      "\n",
      "           0       0.81      0.99      0.89    143606\n",
      "           1       0.47      0.05      0.09     35468\n",
      "\n",
      "    accuracy                           0.80    179074\n",
      "   macro avg       0.64      0.52      0.49    179074\n",
      "weighted avg       0.74      0.80      0.73    179074\n",
      "\n",
      "TEST\n",
      "\n",
      "              precision    recall  f1-score   support\n",
      "\n",
      "           0       0.81      0.99      0.89     61704\n",
      "           1       0.47      0.05      0.10     15042\n",
      "\n",
      "    accuracy                           0.80     76746\n",
      "   macro avg       0.64      0.52      0.49     76746\n",
      "weighted avg       0.74      0.80      0.73     76746\n",
      "\n",
      "CONFUSION MATRIX\n",
      "\n",
      "col_0       0    1\n",
      "target            \n",
      "0       60796  908\n",
      "1       14229  813\n",
      "Wall time: 4.67 s\n"
     ]
    }
   ],
   "source": [
    "%%time\n",
    "\n",
    "model_lr = LogisticRegression(random_state=21)\n",
    "model_lr.fit(X_train, y_train)\n",
    "\n",
    "y_train_pred = model_lr.predict(X_train)\n",
    "y_test_pred = model_lr.predict(X_test)\n",
    "\n",
    "get_classification_report(y_train, y_train_pred, y_test, y_test_pred)"
   ]
  },
  {
   "cell_type": "markdown",
   "metadata": {},
   "source": [
    "**Обучение модели на основе CatBoost**"
   ]
  },
  {
   "cell_type": "code",
   "execution_count": 33,
   "metadata": {},
   "outputs": [
    {
     "name": "stdout",
     "output_type": "stream",
     "text": [
      "TRAIN\n",
      "\n",
      "              precision    recall  f1-score   support\n",
      "\n",
      "           0       0.89      0.99      0.93    143606\n",
      "           1       0.89      0.48      0.63     35468\n",
      "\n",
      "    accuracy                           0.89    179074\n",
      "   macro avg       0.89      0.73      0.78    179074\n",
      "weighted avg       0.89      0.89      0.87    179074\n",
      "\n",
      "TEST\n",
      "\n",
      "              precision    recall  f1-score   support\n",
      "\n",
      "           0       0.87      0.97      0.92     61704\n",
      "           1       0.79      0.42      0.55     15042\n",
      "\n",
      "    accuracy                           0.87     76746\n",
      "   macro avg       0.83      0.70      0.74     76746\n",
      "weighted avg       0.86      0.87      0.85     76746\n",
      "\n",
      "CONFUSION MATRIX\n",
      "\n",
      "col_0       0     1\n",
      "target             \n",
      "0       60006  1698\n",
      "1        8659  6383\n",
      "Wall time: 43.5 s\n"
     ]
    }
   ],
   "source": [
    "%%time\n",
    "\n",
    "model_catb = catb.CatBoostClassifier(silent=True, random_state=21)\n",
    "model_catb.fit(X_train, y_train)\n",
    "\n",
    "y_train_pred = model_catb.predict(X_train)\n",
    "y_test_pred = model_catb.predict(X_test)\n",
    "\n",
    "get_classification_report(y_train, y_train_pred, y_test, y_test_pred)"
   ]
  },
  {
   "cell_type": "markdown",
   "metadata": {},
   "source": [
    "#### Оцениваем важность признаков"
   ]
  },
  {
   "cell_type": "code",
   "execution_count": 34,
   "metadata": {
    "scrolled": false
   },
   "outputs": [
    {
     "data": {
      "image/png": "[encoded data removed]",
      "text/plain": [
       "<Figure size 1008x2837.16 with 1 Axes>"
      ]
     },
     "metadata": {
      "needs_background": "light"
     },
     "output_type": "display_data"
    }
   ],
   "source": [
    "important_features_top = show_feature_importances(X_train.columns, \n",
    "                                                  model_catb.feature_importances_, \n",
    "                                                  get_top=17)"
   ]
  },
  {
   "cell_type": "markdown",
   "metadata": {},
   "source": [
    "#### Обучаем модель на всем датасете df_train"
   ]
  },
  {
   "cell_type": "code",
   "execution_count": 35,
   "metadata": {},
   "outputs": [
    {
     "name": "stdout",
     "output_type": "stream",
     "text": [
      "Wall time: 52.8 s\n"
     ]
    }
   ],
   "source": [
    "%%time\n",
    "\n",
    "X_train = df_train.drop(['target'], axis = 'columns')\n",
    "y_train = df_train['target']\n",
    "\n",
    "final_model = catb.CatBoostClassifier(silent=True, random_state=21)\n",
    "\n",
    "final_model.fit(X_train, y_train)\n",
    "\n",
    "y_test_pred_probs = final_model.predict_proba(X_train)[:, 1]"
   ]
  },
  {
   "cell_type": "markdown",
   "metadata": {},
   "source": [
    "### Выбор порога вероятности для определения класса\n",
    "\n",
    "По результатам расчетов выбираем порог вероятности = **0,313**"
   ]
  },
  {
   "cell_type": "code",
   "execution_count": 36,
   "metadata": {
    "scrolled": false
   },
   "outputs": [
    {
     "data": {
      "image/png": "[encoded data removed]",
      "text/plain": [
       "<Figure size 1080x360 with 2 Axes>"
      ]
     },
     "metadata": {
      "needs_background": "light"
     },
     "output_type": "display_data"
    }
   ],
   "source": [
    "#y_test_pred_probs = final_model.predict_proba(X_test)[:, 1]\n",
    "\n",
    "show_proba_calibration_plots(y_test_pred_probs, y_train)"
   ]
  },
  {
   "cell_type": "markdown",
   "metadata": {},
   "source": [
    "**Сгруппируйте выборку по значениям вероятности с шагом 0.1, и в каждой группе посчитайте: сколько объектов в группе, сколько в группе объектов с target = 1.**"
   ]
  },
  {
   "cell_type": "code",
   "execution_count": 37,
   "metadata": {},
   "outputs": [
    {
     "data": {
      "text/html": [
       "<div>\n",
       "<style scoped>\n",
       "    .dataframe tbody tr th:only-of-type {\n",
       "        vertical-align: middle;\n",
       "    }\n",
       "\n",
       "    .dataframe tbody tr th {\n",
       "        vertical-align: top;\n",
       "    }\n",
       "\n",
       "    .dataframe thead th {\n",
       "        text-align: right;\n",
       "    }\n",
       "</style>\n",
       "<table border=\"1\" class=\"dataframe\">\n",
       "  <thead>\n",
       "    <tr style=\"text-align: right;\">\n",
       "      <th></th>\n",
       "      <th>ID</th>\n",
       "      <th>proba</th>\n",
       "      <th>target</th>\n",
       "    </tr>\n",
       "  </thead>\n",
       "  <tbody>\n",
       "    <tr>\n",
       "      <td>0</td>\n",
       "      <td>1</td>\n",
       "      <td>0.203328</td>\n",
       "      <td>0</td>\n",
       "    </tr>\n",
       "    <tr>\n",
       "      <td>1</td>\n",
       "      <td>2</td>\n",
       "      <td>0.036711</td>\n",
       "      <td>0</td>\n",
       "    </tr>\n",
       "    <tr>\n",
       "      <td>2</td>\n",
       "      <td>3</td>\n",
       "      <td>0.017551</td>\n",
       "      <td>0</td>\n",
       "    </tr>\n",
       "    <tr>\n",
       "      <td>3</td>\n",
       "      <td>4</td>\n",
       "      <td>0.017203</td>\n",
       "      <td>0</td>\n",
       "    </tr>\n",
       "    <tr>\n",
       "      <td>4</td>\n",
       "      <td>5</td>\n",
       "      <td>0.011858</td>\n",
       "      <td>0</td>\n",
       "    </tr>\n",
       "    <tr>\n",
       "      <td>...</td>\n",
       "      <td>...</td>\n",
       "      <td>...</td>\n",
       "      <td>...</td>\n",
       "    </tr>\n",
       "    <tr>\n",
       "      <td>255815</td>\n",
       "      <td>255816</td>\n",
       "      <td>0.005124</td>\n",
       "      <td>0</td>\n",
       "    </tr>\n",
       "    <tr>\n",
       "      <td>255816</td>\n",
       "      <td>255817</td>\n",
       "      <td>0.036296</td>\n",
       "      <td>0</td>\n",
       "    </tr>\n",
       "    <tr>\n",
       "      <td>255817</td>\n",
       "      <td>255818</td>\n",
       "      <td>0.277640</td>\n",
       "      <td>0</td>\n",
       "    </tr>\n",
       "    <tr>\n",
       "      <td>255818</td>\n",
       "      <td>255819</td>\n",
       "      <td>0.152108</td>\n",
       "      <td>0</td>\n",
       "    </tr>\n",
       "    <tr>\n",
       "      <td>255819</td>\n",
       "      <td>255820</td>\n",
       "      <td>0.222701</td>\n",
       "      <td>0</td>\n",
       "    </tr>\n",
       "  </tbody>\n",
       "</table>\n",
       "<p>255820 rows × 3 columns</p>\n",
       "</div>"
      ],
      "text/plain": [
       "            ID     proba  target\n",
       "0            1  0.203328       0\n",
       "1            2  0.036711       0\n",
       "2            3  0.017551       0\n",
       "3            4  0.017203       0\n",
       "4            5  0.011858       0\n",
       "...        ...       ...     ...\n",
       "255815  255816  0.005124       0\n",
       "255816  255817  0.036296       0\n",
       "255817  255818  0.277640       0\n",
       "255818  255819  0.152108       0\n",
       "255819  255820  0.222701       0\n",
       "\n",
       "[255820 rows x 3 columns]"
      ]
     },
     "execution_count": 37,
     "metadata": {},
     "output_type": "execute_result"
    }
   ],
   "source": [
    "df = pd.DataFrame()\n",
    "df['ID'], df['proba'], df['target'] = df_train['ID'], pd.DataFrame(y_test_pred_probs), df_train['target']\n",
    "\n",
    "df"
   ]
  },
  {
   "cell_type": "code",
   "execution_count": 38,
   "metadata": {},
   "outputs": [
    {
     "data": {
      "text/html": [
       "<div>\n",
       "<style scoped>\n",
       "    .dataframe tbody tr th:only-of-type {\n",
       "        vertical-align: middle;\n",
       "    }\n",
       "\n",
       "    .dataframe tbody tr th {\n",
       "        vertical-align: top;\n",
       "    }\n",
       "\n",
       "    .dataframe thead th {\n",
       "        text-align: right;\n",
       "    }\n",
       "</style>\n",
       "<table border=\"1\" class=\"dataframe\">\n",
       "  <thead>\n",
       "    <tr style=\"text-align: right;\">\n",
       "      <th></th>\n",
       "      <th>proba</th>\n",
       "      <th>count</th>\n",
       "      <th>target=1</th>\n",
       "    </tr>\n",
       "  </thead>\n",
       "  <tbody>\n",
       "    <tr>\n",
       "      <td>0</td>\n",
       "      <td>0.0-0.1</td>\n",
       "      <td>126234</td>\n",
       "      <td>4164</td>\n",
       "    </tr>\n",
       "    <tr>\n",
       "      <td>1</td>\n",
       "      <td>0.1-0.2</td>\n",
       "      <td>49489</td>\n",
       "      <td>6122</td>\n",
       "    </tr>\n",
       "    <tr>\n",
       "      <td>2</td>\n",
       "      <td>0.2-0.3</td>\n",
       "      <td>27317</td>\n",
       "      <td>6067</td>\n",
       "    </tr>\n",
       "    <tr>\n",
       "      <td>3</td>\n",
       "      <td>0.3-0.4</td>\n",
       "      <td>16045</td>\n",
       "      <td>5557</td>\n",
       "    </tr>\n",
       "    <tr>\n",
       "      <td>4</td>\n",
       "      <td>0.4-0.5</td>\n",
       "      <td>9660</td>\n",
       "      <td>4686</td>\n",
       "    </tr>\n",
       "    <tr>\n",
       "      <td>5</td>\n",
       "      <td>0.5-0.6</td>\n",
       "      <td>6166</td>\n",
       "      <td>4009</td>\n",
       "    </tr>\n",
       "    <tr>\n",
       "      <td>6</td>\n",
       "      <td>0.6-0.7</td>\n",
       "      <td>3991</td>\n",
       "      <td>3224</td>\n",
       "    </tr>\n",
       "    <tr>\n",
       "      <td>7</td>\n",
       "      <td>0.7-0.8</td>\n",
       "      <td>2719</td>\n",
       "      <td>2515</td>\n",
       "    </tr>\n",
       "    <tr>\n",
       "      <td>8</td>\n",
       "      <td>0.8-0.9</td>\n",
       "      <td>2552</td>\n",
       "      <td>2520</td>\n",
       "    </tr>\n",
       "    <tr>\n",
       "      <td>9</td>\n",
       "      <td>0.9-1.0</td>\n",
       "      <td>11647</td>\n",
       "      <td>11646</td>\n",
       "    </tr>\n",
       "  </tbody>\n",
       "</table>\n",
       "</div>"
      ],
      "text/plain": [
       "     proba   count  target=1\n",
       "0  0.0-0.1  126234      4164\n",
       "1  0.1-0.2   49489      6122\n",
       "2  0.2-0.3   27317      6067\n",
       "3  0.3-0.4   16045      5557\n",
       "4  0.4-0.5    9660      4686\n",
       "5  0.5-0.6    6166      4009\n",
       "6  0.6-0.7    3991      3224\n",
       "7  0.7-0.8    2719      2515\n",
       "8  0.8-0.9    2552      2520\n",
       "9  0.9-1.0   11647     11646"
      ]
     },
     "execution_count": 38,
     "metadata": {},
     "output_type": "execute_result"
    }
   ],
   "source": [
    "df_group = pd.DataFrame()\n",
    "bins = [0.0, 0.1, 0.2, 0.3, 0.4, 0.5, 0.6, 0.7, 0.8, 0.9, 1.0]\n",
    "labels = ['0.0-0.1','0.1-0.2','0.2-0.3', '0.3-0.4','0.4-0.5','0.5-0.6', '0.6-0.7','0.7-0.8','0.8-0.9', '0.9-1.0']\n",
    "\n",
    "df_group = df.groupby(pd.cut(df['proba'], bins=bins, labels=labels)).size().reset_index(name='count')\n",
    "\n",
    "df_group_ = df.groupby(pd.cut(df['proba'], bins=bins, labels=labels))['target'].sum().reset_index(name='target=1')\n",
    "\n",
    "df_group['target=1'] = df_group_['target=1']\n",
    "\n",
    "df_group"
   ]
  },
  {
   "cell_type": "markdown",
   "metadata": {},
   "source": [
    "**Считаем Джини кэоф. по 'target'**"
   ]
  },
  {
   "cell_type": "code",
   "execution_count": 39,
   "metadata": {},
   "outputs": [],
   "source": [
    "if __name__ == '__main__':\n",
    "    salary = df_group['target=1'].to_dict()"
   ]
  },
  {
   "cell_type": "code",
   "execution_count": 45,
   "metadata": {},
   "outputs": [
    {
     "data": {
      "image/png": "[encoded data removed]",
      "text/plain": [
       "<Figure size 432x288 with 1 Axes>"
      ]
     },
     "metadata": {
      "needs_background": "light"
     },
     "output_type": "display_data"
    },
    {
     "name": "stdout",
     "output_type": "stream",
     "text": [
      "0.25098792318352814\n"
     ]
    }
   ],
   "source": [
    "print(GiniIndex(list(salary.values())))"
   ]
  },
  {
   "cell_type": "markdown",
   "metadata": {},
   "source": [
    "## Прогнозирование на тестовом датасете"
   ]
  },
  {
   "cell_type": "markdown",
   "metadata": {},
   "source": [
    "**Загрузка тестовых данных**"
   ]
  },
  {
   "cell_type": "code",
   "execution_count": 41,
   "metadata": {},
   "outputs": [
    {
     "data": {
      "text/html": [
       "<div>\n",
       "<style scoped>\n",
       "    .dataframe tbody tr th:only-of-type {\n",
       "        vertical-align: middle;\n",
       "    }\n",
       "\n",
       "    .dataframe tbody tr th {\n",
       "        vertical-align: top;\n",
       "    }\n",
       "\n",
       "    .dataframe thead th {\n",
       "        text-align: right;\n",
       "    }\n",
       "</style>\n",
       "<table border=\"1\" class=\"dataframe\">\n",
       "  <thead>\n",
       "    <tr style=\"text-align: right;\">\n",
       "      <th></th>\n",
       "      <th>ID</th>\n",
       "      <th>feature_1</th>\n",
       "      <th>feature_2</th>\n",
       "      <th>feature_3</th>\n",
       "      <th>feature_4</th>\n",
       "      <th>feature_5</th>\n",
       "      <th>feature_6</th>\n",
       "      <th>feature_7</th>\n",
       "      <th>feature_8</th>\n",
       "      <th>feature_9</th>\n",
       "      <th>...</th>\n",
       "      <th>feature_115</th>\n",
       "      <th>feature_116</th>\n",
       "      <th>feature_117</th>\n",
       "      <th>feature_118</th>\n",
       "      <th>feature_119</th>\n",
       "      <th>feature_120</th>\n",
       "      <th>feature_121</th>\n",
       "      <th>feature_122</th>\n",
       "      <th>feature_123</th>\n",
       "      <th>feature_124</th>\n",
       "    </tr>\n",
       "  </thead>\n",
       "  <tbody>\n",
       "    <tr>\n",
       "      <td>0</td>\n",
       "      <td>255821</td>\n",
       "      <td>0</td>\n",
       "      <td>0</td>\n",
       "      <td>0</td>\n",
       "      <td>2268</td>\n",
       "      <td>34</td>\n",
       "      <td>0</td>\n",
       "      <td>1</td>\n",
       "      <td>0</td>\n",
       "      <td>0</td>\n",
       "      <td>...</td>\n",
       "      <td>1</td>\n",
       "      <td>0</td>\n",
       "      <td>0</td>\n",
       "      <td>0</td>\n",
       "      <td>0.0</td>\n",
       "      <td>6000</td>\n",
       "      <td>1000</td>\n",
       "      <td>4551.0204</td>\n",
       "      <td>12000</td>\n",
       "      <td>0.500000</td>\n",
       "    </tr>\n",
       "    <tr>\n",
       "      <td>1</td>\n",
       "      <td>255822</td>\n",
       "      <td>0</td>\n",
       "      <td>0</td>\n",
       "      <td>0</td>\n",
       "      <td>42</td>\n",
       "      <td>49</td>\n",
       "      <td>0</td>\n",
       "      <td>0</td>\n",
       "      <td>1</td>\n",
       "      <td>0</td>\n",
       "      <td>...</td>\n",
       "      <td>0</td>\n",
       "      <td>0</td>\n",
       "      <td>0</td>\n",
       "      <td>0</td>\n",
       "      <td>0.0</td>\n",
       "      <td>6000</td>\n",
       "      <td>3400</td>\n",
       "      <td>4700.0000</td>\n",
       "      <td>6000</td>\n",
       "      <td>1.000000</td>\n",
       "    </tr>\n",
       "    <tr>\n",
       "      <td>2</td>\n",
       "      <td>255823</td>\n",
       "      <td>0</td>\n",
       "      <td>0</td>\n",
       "      <td>0</td>\n",
       "      <td>265</td>\n",
       "      <td>69</td>\n",
       "      <td>0</td>\n",
       "      <td>1</td>\n",
       "      <td>0</td>\n",
       "      <td>0</td>\n",
       "      <td>...</td>\n",
       "      <td>0</td>\n",
       "      <td>0</td>\n",
       "      <td>0</td>\n",
       "      <td>0</td>\n",
       "      <td>0.0</td>\n",
       "      <td>3000</td>\n",
       "      <td>3000</td>\n",
       "      <td>4133.3333</td>\n",
       "      <td>6000</td>\n",
       "      <td>0.500000</td>\n",
       "    </tr>\n",
       "    <tr>\n",
       "      <td>3</td>\n",
       "      <td>255824</td>\n",
       "      <td>1</td>\n",
       "      <td>0</td>\n",
       "      <td>0</td>\n",
       "      <td>834</td>\n",
       "      <td>25</td>\n",
       "      <td>1</td>\n",
       "      <td>0</td>\n",
       "      <td>1</td>\n",
       "      <td>0</td>\n",
       "      <td>...</td>\n",
       "      <td>0</td>\n",
       "      <td>0</td>\n",
       "      <td>0</td>\n",
       "      <td>0</td>\n",
       "      <td>0.0</td>\n",
       "      <td>2000</td>\n",
       "      <td>1000</td>\n",
       "      <td>3875.0000</td>\n",
       "      <td>11000</td>\n",
       "      <td>0.181818</td>\n",
       "    </tr>\n",
       "    <tr>\n",
       "      <td>4</td>\n",
       "      <td>255825</td>\n",
       "      <td>0</td>\n",
       "      <td>0</td>\n",
       "      <td>0</td>\n",
       "      <td>772</td>\n",
       "      <td>26</td>\n",
       "      <td>1</td>\n",
       "      <td>1</td>\n",
       "      <td>0</td>\n",
       "      <td>0</td>\n",
       "      <td>...</td>\n",
       "      <td>1</td>\n",
       "      <td>0</td>\n",
       "      <td>0</td>\n",
       "      <td>0</td>\n",
       "      <td>0.0</td>\n",
       "      <td>8000</td>\n",
       "      <td>2000</td>\n",
       "      <td>7640.0000</td>\n",
       "      <td>12000</td>\n",
       "      <td>0.666667</td>\n",
       "    </tr>\n",
       "  </tbody>\n",
       "</table>\n",
       "<p>5 rows × 125 columns</p>\n",
       "</div>"
      ],
      "text/plain": [
       "       ID  feature_1  feature_2  feature_3  feature_4  feature_5  feature_6  \\\n",
       "0  255821          0          0          0       2268         34          0   \n",
       "1  255822          0          0          0         42         49          0   \n",
       "2  255823          0          0          0        265         69          0   \n",
       "3  255824          1          0          0        834         25          1   \n",
       "4  255825          0          0          0        772         26          1   \n",
       "\n",
       "   feature_7  feature_8  feature_9  ...  feature_115  feature_116  \\\n",
       "0          1          0          0  ...            1            0   \n",
       "1          0          1          0  ...            0            0   \n",
       "2          1          0          0  ...            0            0   \n",
       "3          0          1          0  ...            0            0   \n",
       "4          1          0          0  ...            1            0   \n",
       "\n",
       "   feature_117  feature_118  feature_119  feature_120  feature_121  \\\n",
       "0            0            0          0.0         6000         1000   \n",
       "1            0            0          0.0         6000         3400   \n",
       "2            0            0          0.0         3000         3000   \n",
       "3            0            0          0.0         2000         1000   \n",
       "4            0            0          0.0         8000         2000   \n",
       "\n",
       "   feature_122  feature_123  feature_124  \n",
       "0    4551.0204        12000     0.500000  \n",
       "1    4700.0000         6000     1.000000  \n",
       "2    4133.3333         6000     0.500000  \n",
       "3    3875.0000        11000     0.181818  \n",
       "4    7640.0000        12000     0.666667  \n",
       "\n",
       "[5 rows x 125 columns]"
      ]
     },
     "execution_count": 41,
     "metadata": {},
     "output_type": "execute_result"
    }
   ],
   "source": [
    "df_test = pd.read_csv(TEST_DATASET_PATH, delimiter =';')\n",
    "df_test.head()"
   ]
  },
  {
   "cell_type": "markdown",
   "metadata": {},
   "source": [
    "### Обработка пропусков<a class=\"anchor\" id=\"gaps\"></a>"
   ]
  },
  {
   "cell_type": "code",
   "execution_count": 42,
   "metadata": {
    "scrolled": true
   },
   "outputs": [
    {
     "data": {
      "text/plain": [
       "target         0\n",
       "feature_124    0\n",
       "feature_36     0\n",
       "feature_38     0\n",
       "feature_39     0\n",
       "feature_40     0\n",
       "feature_42     0\n",
       "feature_43     0\n",
       "feature_44     0\n",
       "feature_45     0\n",
       "dtype: int64"
      ]
     },
     "execution_count": 42,
     "metadata": {},
     "output_type": "execute_result"
    }
   ],
   "source": [
    "df_train.isnull().sum().sort_values(ascending = False).head(10)"
   ]
  },
  {
   "cell_type": "markdown",
   "metadata": {},
   "source": [
    "### Предсказываем целевую переменную, используя модель, построенную на обучающем датасете"
   ]
  },
  {
   "cell_type": "markdown",
   "metadata": {},
   "source": [
    "#### Делаем предсказание на тестовых данных"
   ]
  },
  {
   "cell_type": "code",
   "execution_count": 43,
   "metadata": {},
   "outputs": [],
   "source": [
    "y_test_pred_probs = final_model.predict_proba(df_test)[:, 1]"
   ]
  },
  {
   "cell_type": "code",
   "execution_count": 46,
   "metadata": {},
   "outputs": [],
   "source": [
    "y_test_labels = pd.DataFrame()\n",
    "y_test_labels['ID'] = df_test['ID']\n",
    "y_test_labels['score'] = pd.DataFrame(y_test_pred_probs)\n",
    "\n",
    "y_test_labels.to_csv('Test_score.csv', header=None, index=None, sep = ';')"
   ]
  },
  {
   "cell_type": "markdown",
   "metadata": {},
   "source": [
    "#### Сдвигаем порог вероятности и сохраняем предсказания 'target'"
   ]
  },
  {
   "cell_type": "code",
   "execution_count": 48,
   "metadata": {},
   "outputs": [],
   "source": [
    "y_test_labels_ = pd.DataFrame()\n",
    "\n",
    "y_test_labels_['ID'] = df_test['ID']\n",
    "y_test_labels_['target'] = pd.DataFrame(np.array(y_test_pred_probs > 0.313, dtype=int))\n",
    "\n",
    "y_test_labels_.to_csv('Test_target.csv', header=None, index=None, sep = ';')"
   ]
  }
 ],
 "metadata": {
  "kernelspec": {
   "display_name": "Python 3",
   "language": "python",
   "name": "python3"
  },
  "language_info": {
   "codemirror_mode": {
    "name": "ipython",
    "version": 3
   },
   "file_extension": ".py",
   "mimetype": "text/x-python",
   "name": "python",
   "nbconvert_exporter": "python",
   "pygments_lexer": "ipython3",
   "version": "3.7.4"
  },
  "toc": {
   "base_numbering": 1,
   "nav_menu": {},
   "number_sections": false,
   "sideBar": true,
   "skip_h1_title": true,
   "title_cell": "Содержание",
   "title_sidebar": "Содержание",
   "toc_cell": false,
   "toc_position": {},
   "toc_section_display": true,
   "toc_window_display": false
  }
 },
 "nbformat": 4,
 "nbformat_minor": 2
}
